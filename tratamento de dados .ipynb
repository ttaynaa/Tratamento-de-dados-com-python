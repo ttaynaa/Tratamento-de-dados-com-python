{
 "cells": [
  {
   "cell_type": "markdown",
   "id": "6d4a556c",
   "metadata": {},
   "source": [
    "   # Tratamento e Manupulação de dados \n"
   ]
  },
  {
   "attachments": {
    "gears-2.png": {
     "image/png": "[encoded data removed]"
    }
   },
   "cell_type": "markdown",
   "id": "9cc74b00",
   "metadata": {},
   "source": [
    "![gears-2.png](attachment:gears-2.png) "
   ]
  },
  {
   "cell_type": "markdown",
   "id": "8165e34d",
   "metadata": {},
   "source": [
    "* **Transformar coluna com NaN e string para inteiro [fechada]**"
   ]
  },
  {
   "attachments": {
    "print.png": {
     "image/png": "[encoded data removed]"
    }
   },
   "cell_type": "markdown",
   "id": "e350627c",
   "metadata": {},
   "source": [
    "exemplo : ![print.png](attachment:print.png)"
   ]
  },
  {
   "cell_type": "markdown",
   "id": "aff8d47b",
   "metadata": {},
   "source": [
    "O pandas não aceita transformar np.NaN em int, pois ele o considera um float. Porém ele consegue transformar em Int64 (ou Int16 e Int32). O NaN é transformado em <NA> (pd.NA), que é o null para inteiros, e as funções que utilizam este valor nulo, como .isnull() funcionam com pd.NA e com o np.NaN.\n",
    "\n",
    "Então fazer: df['Years'].astype('Int64') resolve o problema dos nulos.\n",
    "\n",
    "Mas ainda temos os '1996', que não podem ser transformados em 'Int64' diretamente. Por isso, podemos transformá-los em float antes:\n"
   ]
  },
  {
   "cell_type": "code",
   "execution_count": null,
   "id": "590c7e3e",
   "metadata": {},
   "outputs": [],
   "source": [
    "df['Years'].astype('float').astype('Int64')"
   ]
  },
  {
   "cell_type": "code",
   "execution_count": null,
   "id": "3351d57f",
   "metadata": {},
   "outputs": [],
   "source": [
    " ## Criando um exemplo: "
   ]
  },
  {
   "cell_type": "code",
   "execution_count": 2,
   "id": "deb240fb",
   "metadata": {},
   "outputs": [],
   "source": [
    "anos = ('1990','1990','1990','1991', 'NaN','1994','NaN') #criando variável com exemplo"
   ]
  },
  {
   "cell_type": "code",
   "execution_count": 6,
   "id": "a2865256",
   "metadata": {},
   "outputs": [],
   "source": [
    "import pandas as pd\n",
    "\n",
    "df= pd.DataFrame(anos,columns=['anos']) #criando data.frame para executar o exemplo"
   ]
  },
  {
   "cell_type": "code",
   "execution_count": 7,
   "id": "7c97e70e",
   "metadata": {},
   "outputs": [
    {
     "data": {
      "text/html": [
       "<div>\n",
       "<style scoped>\n",
       "    .dataframe tbody tr th:only-of-type {\n",
       "        vertical-align: middle;\n",
       "    }\n",
       "\n",
       "    .dataframe tbody tr th {\n",
       "        vertical-align: top;\n",
       "    }\n",
       "\n",
       "    .dataframe thead th {\n",
       "        text-align: right;\n",
       "    }\n",
       "</style>\n",
       "<table border=\"1\" class=\"dataframe\">\n",
       "  <thead>\n",
       "    <tr style=\"text-align: right;\">\n",
       "      <th></th>\n",
       "      <th>anos</th>\n",
       "    </tr>\n",
       "  </thead>\n",
       "  <tbody>\n",
       "    <tr>\n",
       "      <th>0</th>\n",
       "      <td>1990</td>\n",
       "    </tr>\n",
       "    <tr>\n",
       "      <th>1</th>\n",
       "      <td>1990</td>\n",
       "    </tr>\n",
       "    <tr>\n",
       "      <th>2</th>\n",
       "      <td>1990</td>\n",
       "    </tr>\n",
       "    <tr>\n",
       "      <th>3</th>\n",
       "      <td>1991</td>\n",
       "    </tr>\n",
       "    <tr>\n",
       "      <th>4</th>\n",
       "      <td>NaN</td>\n",
       "    </tr>\n",
       "    <tr>\n",
       "      <th>5</th>\n",
       "      <td>1994</td>\n",
       "    </tr>\n",
       "    <tr>\n",
       "      <th>6</th>\n",
       "      <td>NaN</td>\n",
       "    </tr>\n",
       "  </tbody>\n",
       "</table>\n",
       "</div>"
      ],
      "text/plain": [
       "   anos\n",
       "0  1990\n",
       "1  1990\n",
       "2  1990\n",
       "3  1991\n",
       "4   NaN\n",
       "5  1994\n",
       "6   NaN"
      ]
     },
     "execution_count": 7,
     "metadata": {},
     "output_type": "execute_result"
    }
   ],
   "source": [
    "df #visualizando o data.frame com a variável anos"
   ]
  },
  {
   "cell_type": "code",
   "execution_count": 8,
   "id": "fac43a20",
   "metadata": {},
   "outputs": [
    {
     "data": {
      "text/plain": [
       "0    1990\n",
       "1    1990\n",
       "2    1990\n",
       "3    1991\n",
       "4    <NA>\n",
       "5    1994\n",
       "6    <NA>\n",
       "Name: anos, dtype: Int64"
      ]
     },
     "execution_count": 8,
     "metadata": {},
     "output_type": "execute_result"
    }
   ],
   "source": [
    "df['anos'].astype('float').astype('Int64') #aplicando o tratamento "
   ]
  },
  {
   "cell_type": "code",
   "execution_count": null,
   "id": "002fc3df",
   "metadata": {},
   "outputs": [],
   "source": []
  },
  {
   "cell_type": "code",
   "execution_count": null,
   "id": "2106eb88",
   "metadata": {},
   "outputs": [],
   "source": []
  },
  {
   "cell_type": "code",
   "execution_count": null,
   "id": "054d0539",
   "metadata": {},
   "outputs": [],
   "source": []
  }
 ],
 "metadata": {
  "kernelspec": {
   "display_name": "Python 3 (ipykernel)",
   "language": "python",
   "name": "python3"
  },
  "language_info": {
   "codemirror_mode": {
    "name": "ipython",
    "version": 3
   },
   "file_extension": ".py",
   "mimetype": "text/x-python",
   "name": "python",
   "nbconvert_exporter": "python",
   "pygments_lexer": "ipython3",
   "version": "3.9.7"
  }
 },
 "nbformat": 4,
 "nbformat_minor": 5
}
